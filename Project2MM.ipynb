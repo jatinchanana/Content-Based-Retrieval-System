{
 "cells": [
  {
   "cell_type": "code",
   "execution_count": 1,
   "metadata": {},
   "outputs": [],
   "source": [
    "import cv2\n",
    "import pickle\n",
    "from sklearn.cluster import MiniBatchKMeans\n",
    "from skimage import color\n",
    "import numpy as np\n",
    "from PIL import Image\n",
    "import glob\n",
    "extractor=cv2.xfeatures2d.SURF_create(1500,2,1,1,0)"
   ]
  },
  {
   "cell_type": "code",
   "execution_count": 2,
   "metadata": {},
   "outputs": [],
   "source": [
    "def build_histogram(descriptor_list, cluster_alg):\n",
    "    histogram = np.zeros(2000)\n",
    "    cluster_result =  cluster_alg.predict(descriptor_list)\n",
    "    for i in cluster_result:\n",
    "        histogram[i] += 1.0\n",
    "    return histogram\n",
    "def gray(img):\n",
    "    return(cv2.cvtColor(np.array(img), cv2.COLOR_BGR2GRAY))"
   ]
  },
  {
   "cell_type": "code",
   "execution_count": null,
   "metadata": {},
   "outputs": [],
   "source": [
    "folders = glob.glob(r'C:\\Users\\jatin\\Desktop\\paris*\\*')\n",
    "image_list = []\n",
    "for folder in folders:\n",
    "    for f in glob.glob(folder+'\\*.jpg'):\n",
    "        im=Image.open(f)\n",
    "        image_list.append(im)"
   ]
  },
  {
   "cell_type": "code",
   "execution_count": 20,
   "metadata": {},
   "outputs": [],
   "source": [
    "def extract_features(image):\n",
    "    kp,desc = extractor.detectAndCompute(image,None)\n",
    "    return desc"
   ]
  },
  {
   "cell_type": "code",
   "execution_count": null,
   "metadata": {
    "scrolled": true
   },
   "outputs": [],
   "source": [
    "'''Extracting SURF features for each image in the dataset'''\n",
    "descriptor_list=[]\n",
    "for i,image in enumerate(image_list):\n",
    "    if i%100==0:\n",
    "        print(str(i)+\"images done\")\n",
    "    image = gray(image)\n",
    "    descriptor = extract_features(image)\n",
    "    if (descriptor is not None):\n",
    "        descriptor_list.extend(descriptor)"
   ]
  },
  {
   "cell_type": "code",
   "execution_count": null,
   "metadata": {},
   "outputs": [],
   "source": [
    "kmeans = MiniBatchKMeans(n_clusters=2000,random_state=0,batch_size=300000,max_iter=10).fit(descriptor_list)"
   ]
  },
  {
   "cell_type": "code",
   "execution_count": null,
   "metadata": {},
   "outputs": [],
   "source": [
    "with open('my_kmeans_ORB_classifier.pkl', 'wb') as fid:\n",
    "    pickle.dump(kmeans, fid)"
   ]
  },
  {
   "cell_type": "code",
   "execution_count": 4,
   "metadata": {},
   "outputs": [],
   "source": [
    "with open('my_kmeansfinalcheck_classifier.pkl', 'rb') as fid:\n",
    "    kmeans = pickle.load(fid)"
   ]
  },
  {
   "cell_type": "code",
   "execution_count": 21,
   "metadata": {},
   "outputs": [],
   "source": [
    "preprocessed_image = []\n",
    "hists = []\n",
    "folders = glob.glob(r'C:\\Users\\jatin\\Desktop\\paris*\\*')\n",
    "image_list = []\n",
    "for folder in folders:\n",
    "    for f in glob.glob(folder+'\\*.jpg'):\n",
    "        im=Image.open(f)\n",
    "        grayimage=gray(im)\n",
    "        descriptor =  extract_features(grayimage)\n",
    "        if(descriptor is not None):\n",
    "            histogram= build_histogram(descriptor,kmeans)\n",
    "            preprocessed_image.append([f[23:],histogram])\n",
    "            hists.append(histogram)  "
   ]
  },
  {
   "cell_type": "code",
   "execution_count": null,
   "metadata": {},
   "outputs": [],
   "source": [
    "from sklearn.neighbors import NearestNeighbors\n",
    "\n",
    "data = cv2.imread(r'\\path\\to\\the\\query\\image')\n",
    "data = gray(data)\n",
    "descriptor = extract_features(data)\n",
    "histogram = build_histogram(descriptor, kmeans)\n",
    "neighbor = NearestNeighbors(n_neighbors =10,metric='cosine')\n",
    "neighbor.fit(hists)\n",
    "dist, result = neighbor.kneighbors([histogram])"
   ]
  }
 ],
 "metadata": {
  "kernelspec": {
   "display_name": "Python 3",
   "language": "python",
   "name": "python3"
  },
  "language_info": {
   "codemirror_mode": {
    "name": "ipython",
    "version": 3
   },
   "file_extension": ".py",
   "mimetype": "text/x-python",
   "name": "python",
   "nbconvert_exporter": "python",
   "pygments_lexer": "ipython3",
   "version": "3.7.1"
  }
 },
 "nbformat": 4,
 "nbformat_minor": 2
}
